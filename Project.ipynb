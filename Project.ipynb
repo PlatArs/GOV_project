{
 "cells": [
  {
   "cell_type": "markdown",
   "metadata": {},
   "source": [
    "# Импорт библиотек"
   ]
  },
  {
   "cell_type": "code",
   "execution_count": 1,
   "metadata": {},
   "outputs": [],
   "source": [
    "import pandas as pd\n",
    "from datetime import datetime\n",
    "\n",
    "import json\n",
    "import os"
   ]
  },
  {
   "cell_type": "markdown",
   "metadata": {},
   "source": [
    "# Чтение данных"
   ]
  },
  {
   "cell_type": "code",
   "execution_count": 3,
   "metadata": {},
   "outputs": [],
   "source": [
    "all_data = []\n",
    "# Перебираем все файлы в директории\n",
    "for filename in os.listdir('data'):\n",
    "    if filename.endswith('.json'): # Проверяем, что файл имеет расширение .json\n",
    "        file_path = os.path.join('data', filename)\n",
    "        # Открываем\n",
    "        with open(file_path, 'r', encoding='utf-8') as file:\n",
    "            data = [json.loads(line) for line in file]\n",
    "            all_data.extend(data)"
   ]
  },
  {
   "cell_type": "code",
   "execution_count": 4,
   "metadata": {},
   "outputs": [],
   "source": [
    "data_df = pd.DataFrame(all_data)\n",
    "# Так как в данных есть списки со словарями, преобразуем их просто в словари, чтобы можно было преобразить данные в DataFrame без словарей:\n",
    "# Ключи словарей станут новыми признаками в DataFrame \n",
    "def convert_list_to_dict(cell):\n",
    "    if isinstance(cell, list) and len(cell) > 0:\n",
    "        return cell[0]\n",
    "    else:\n",
    "        return cell\n",
    "\n",
    "# Применение функции к каждой ячейке в каждом столбце DataFrame\n",
    "for column in data_df.columns:\n",
    "    data_df[column] = data_df[column].apply(convert_list_to_dict)"
   ]
  },
  {
   "cell_type": "code",
   "execution_count": 5,
   "metadata": {},
   "outputs": [],
   "source": [
    "# Преобразуем данные в json, чтобы открыть через json_normalize, сразу добавив ключи, как признаки\n",
    "data_df_1 = pd.DataFrame(data_df)\n",
    "\n",
    "clear_json = data_df_1.to_json(orient='records')\n",
    "\n",
    "data_list = json.loads(clear_json)\n",
    "\n",
    "full_data = pd.json_normalize(data_list)\n",
    "# отсортируем признаки по алфавиту\n",
    "full_data = full_data.sort_index(axis=1)"
   ]
  },
  {
   "cell_type": "code",
   "execution_count": 6,
   "metadata": {},
   "outputs": [],
   "source": [
    "# Запишем в  готовую таблицу в csv файл\n",
    "full_data.to_csv('data/Полная таблица.csv')\n"
   ]
  },
  {
   "cell_type": "markdown",
   "metadata": {},
   "source": [
    "# Знакомство с данными"
   ]
  },
  {
   "cell_type": "code",
   "execution_count": 7,
   "metadata": {},
   "outputs": [
    {
     "name": "stderr",
     "output_type": "stream",
     "text": [
      "C:\\Users\\Aplatonov\\AppData\\Local\\Temp\\ipykernel_3044\\2871854370.py:1: DtypeWarning: Columns (171,175,177,179,182,201,202,203,204,205,206,211,214,215) have mixed types. Specify dtype option on import or set low_memory=False.\n",
      "  df = pd.read_csv('data/Полная таблица.csv')\n"
     ]
    },
    {
     "data": {
      "text/html": [
       "<div>\n",
       "<style scoped>\n",
       "    .dataframe tbody tr th:only-of-type {\n",
       "        vertical-align: middle;\n",
       "    }\n",
       "\n",
       "    .dataframe tbody tr th {\n",
       "        vertical-align: top;\n",
       "    }\n",
       "\n",
       "    .dataframe thead th {\n",
       "        text-align: right;\n",
       "    }\n",
       "</style>\n",
       "<table border=\"1\" class=\"dataframe\">\n",
       "  <thead>\n",
       "    <tr style=\"text-align: right;\">\n",
       "      <th></th>\n",
       "      <th>addOkved</th>\n",
       "      <th>addOkved.code</th>\n",
       "      <th>addOkved.name</th>\n",
       "      <th>addOkved.version</th>\n",
       "      <th>address</th>\n",
       "      <th>administrators</th>\n",
       "      <th>administrators.name</th>\n",
       "      <th>administrators.title</th>\n",
       "      <th>charter</th>\n",
       "      <th>dateLiquid</th>\n",
       "      <th>...</th>\n",
       "      <th>socialMedia.youtube</th>\n",
       "      <th>statusDetail.code</th>\n",
       "      <th>statusDetail.name</th>\n",
       "      <th>statusDetail.shortName</th>\n",
       "      <th>successors</th>\n",
       "      <th>successors.fullName</th>\n",
       "      <th>successors.inn</th>\n",
       "      <th>successors.ogrn</th>\n",
       "      <th>website</th>\n",
       "      <th>website_punycode</th>\n",
       "    </tr>\n",
       "  </thead>\n",
       "  <tbody>\n",
       "    <tr>\n",
       "      <th>0</th>\n",
       "      <td>[]</td>\n",
       "      <td>NaN</td>\n",
       "      <td>NaN</td>\n",
       "      <td>NaN</td>\n",
       "      <td>191186, ГОРОД САНКТ-ПЕТЕРБУРГ, УЛИЦА ИТАЛЬЯНСК...</td>\n",
       "      <td>NaN</td>\n",
       "      <td>КОШЕЧКИН ДЕНИС ВИКТОРОВИЧ</td>\n",
       "      <td>ПРЕДСЕДАТЕЛЬ ПРАВЛЕНИЯ</td>\n",
       "      <td>NaN</td>\n",
       "      <td>NaN</td>\n",
       "      <td>...</td>\n",
       "      <td>NaN</td>\n",
       "      <td>NaN</td>\n",
       "      <td>NaN</td>\n",
       "      <td>Действующая</td>\n",
       "      <td>[]</td>\n",
       "      <td>NaN</td>\n",
       "      <td>NaN</td>\n",
       "      <td>NaN</td>\n",
       "      <td>NaN</td>\n",
       "      <td>NaN</td>\n",
       "    </tr>\n",
       "    <tr>\n",
       "      <th>1</th>\n",
       "      <td>NaN</td>\n",
       "      <td>58.11</td>\n",
       "      <td>Издание книг</td>\n",
       "      <td>ОК 029-2014 (КДЕС Ред. 2)</td>\n",
       "      <td>111395, ГОРОД МОСКВА, УЛИЦА МОЛДАГУЛОВОЙ, ДОМ ...</td>\n",
       "      <td>NaN</td>\n",
       "      <td>НИЗАМИЕВ РУСЛАН ВИЛЬДАНОВИЧ</td>\n",
       "      <td>ГЕНЕРАЛЬНЫЙ ДИРЕКТОР</td>\n",
       "      <td>NaN</td>\n",
       "      <td>NaN</td>\n",
       "      <td>...</td>\n",
       "      <td>NaN</td>\n",
       "      <td>NaN</td>\n",
       "      <td>NaN</td>\n",
       "      <td>Действующая</td>\n",
       "      <td>[]</td>\n",
       "      <td>NaN</td>\n",
       "      <td>NaN</td>\n",
       "      <td>NaN</td>\n",
       "      <td>NaN</td>\n",
       "      <td>NaN</td>\n",
       "    </tr>\n",
       "    <tr>\n",
       "      <th>2</th>\n",
       "      <td>[]</td>\n",
       "      <td>NaN</td>\n",
       "      <td>NaN</td>\n",
       "      <td>NaN</td>\n",
       "      <td>197198, ГОРОД САНКТ-ПЕТЕРБУРГ, УЛИЦА БОЛЬШАЯ П...</td>\n",
       "      <td>NaN</td>\n",
       "      <td>САМОЙЛОВА АНЖЕЛА ВАСИЛЬЕВНА</td>\n",
       "      <td>ПРЕДСЕДАТЕЛЬ КОЛЛЕГИИ</td>\n",
       "      <td>NaN</td>\n",
       "      <td>NaN</td>\n",
       "      <td>...</td>\n",
       "      <td>NaN</td>\n",
       "      <td>NaN</td>\n",
       "      <td>NaN</td>\n",
       "      <td>Действующая</td>\n",
       "      <td>[]</td>\n",
       "      <td>NaN</td>\n",
       "      <td>NaN</td>\n",
       "      <td>NaN</td>\n",
       "      <td>NaN</td>\n",
       "      <td>NaN</td>\n",
       "    </tr>\n",
       "    <tr>\n",
       "      <th>3</th>\n",
       "      <td>NaN</td>\n",
       "      <td>68.20</td>\n",
       "      <td>Аренда и управление собственным или арендованн...</td>\n",
       "      <td>ОК 029-2014 (КДЕС Ред. 2)</td>\n",
       "      <td>125424, ГОРОД МОСКВА, ШОССЕ ВОЛОКОЛАМСКОЕ, ДОМ...</td>\n",
       "      <td>NaN</td>\n",
       "      <td>ГЕЛЬДТ ВЛАДИМИР АНДРЕЕВИЧ</td>\n",
       "      <td>ПРЕДСЕДАТЕЛЬ ТОВАРИЩЕСТВА</td>\n",
       "      <td>NaN</td>\n",
       "      <td>NaN</td>\n",
       "      <td>...</td>\n",
       "      <td>NaN</td>\n",
       "      <td>NaN</td>\n",
       "      <td>NaN</td>\n",
       "      <td>Действующая</td>\n",
       "      <td>[]</td>\n",
       "      <td>NaN</td>\n",
       "      <td>NaN</td>\n",
       "      <td>NaN</td>\n",
       "      <td>NaN</td>\n",
       "      <td>NaN</td>\n",
       "    </tr>\n",
       "    <tr>\n",
       "      <th>4</th>\n",
       "      <td>NaN</td>\n",
       "      <td>73.20</td>\n",
       "      <td>Исследование конъюнктуры рынка и изучение обще...</td>\n",
       "      <td>ОК 029-2014 (КДЕС Ред. 2)</td>\n",
       "      <td>197198, ГОРОД САНКТ-ПЕТЕРБУРГ, УЛИЦА ЗВЕРИНСКА...</td>\n",
       "      <td>NaN</td>\n",
       "      <td>ПРИВАЛОВА ЮЛИЯ АНАТОЛЬЕВНА</td>\n",
       "      <td>ДИРЕКТОР</td>\n",
       "      <td>NaN</td>\n",
       "      <td>NaN</td>\n",
       "      <td>...</td>\n",
       "      <td>NaN</td>\n",
       "      <td>NaN</td>\n",
       "      <td>NaN</td>\n",
       "      <td>Действующая</td>\n",
       "      <td>[]</td>\n",
       "      <td>NaN</td>\n",
       "      <td>NaN</td>\n",
       "      <td>NaN</td>\n",
       "      <td>NaN</td>\n",
       "      <td>NaN</td>\n",
       "    </tr>\n",
       "  </tbody>\n",
       "</table>\n",
       "<p>5 rows × 215 columns</p>\n",
       "</div>"
      ],
      "text/plain": [
       "  addOkved addOkved.code                                      addOkved.name  \\\n",
       "0       []           NaN                                                NaN   \n",
       "1      NaN         58.11                                       Издание книг   \n",
       "2       []           NaN                                                NaN   \n",
       "3      NaN         68.20  Аренда и управление собственным или арендованн...   \n",
       "4      NaN         73.20  Исследование конъюнктуры рынка и изучение обще...   \n",
       "\n",
       "            addOkved.version  \\\n",
       "0                        NaN   \n",
       "1  ОК 029-2014 (КДЕС Ред. 2)   \n",
       "2                        NaN   \n",
       "3  ОК 029-2014 (КДЕС Ред. 2)   \n",
       "4  ОК 029-2014 (КДЕС Ред. 2)   \n",
       "\n",
       "                                             address administrators  \\\n",
       "0  191186, ГОРОД САНКТ-ПЕТЕРБУРГ, УЛИЦА ИТАЛЬЯНСК...            NaN   \n",
       "1  111395, ГОРОД МОСКВА, УЛИЦА МОЛДАГУЛОВОЙ, ДОМ ...            NaN   \n",
       "2  197198, ГОРОД САНКТ-ПЕТЕРБУРГ, УЛИЦА БОЛЬШАЯ П...            NaN   \n",
       "3  125424, ГОРОД МОСКВА, ШОССЕ ВОЛОКОЛАМСКОЕ, ДОМ...            NaN   \n",
       "4  197198, ГОРОД САНКТ-ПЕТЕРБУРГ, УЛИЦА ЗВЕРИНСКА...            NaN   \n",
       "\n",
       "           administrators.name       administrators.title  charter  \\\n",
       "0    КОШЕЧКИН ДЕНИС ВИКТОРОВИЧ     ПРЕДСЕДАТЕЛЬ ПРАВЛЕНИЯ      NaN   \n",
       "1  НИЗАМИЕВ РУСЛАН ВИЛЬДАНОВИЧ       ГЕНЕРАЛЬНЫЙ ДИРЕКТОР      NaN   \n",
       "2  САМОЙЛОВА АНЖЕЛА ВАСИЛЬЕВНА      ПРЕДСЕДАТЕЛЬ КОЛЛЕГИИ      NaN   \n",
       "3    ГЕЛЬДТ ВЛАДИМИР АНДРЕЕВИЧ  ПРЕДСЕДАТЕЛЬ ТОВАРИЩЕСТВА      NaN   \n",
       "4   ПРИВАЛОВА ЮЛИЯ АНАТОЛЬЕВНА                   ДИРЕКТОР      NaN   \n",
       "\n",
       "   dateLiquid  ... socialMedia.youtube statusDetail.code  statusDetail.name  \\\n",
       "0         NaN  ...                 NaN               NaN                NaN   \n",
       "1         NaN  ...                 NaN               NaN                NaN   \n",
       "2         NaN  ...                 NaN               NaN                NaN   \n",
       "3         NaN  ...                 NaN               NaN                NaN   \n",
       "4         NaN  ...                 NaN               NaN                NaN   \n",
       "\n",
       "  statusDetail.shortName successors successors.fullName successors.inn  \\\n",
       "0            Действующая         []                 NaN            NaN   \n",
       "1            Действующая         []                 NaN            NaN   \n",
       "2            Действующая         []                 NaN            NaN   \n",
       "3            Действующая         []                 NaN            NaN   \n",
       "4            Действующая         []                 NaN            NaN   \n",
       "\n",
       "   successors.ogrn  website  website_punycode  \n",
       "0              NaN      NaN               NaN  \n",
       "1              NaN      NaN               NaN  \n",
       "2              NaN      NaN               NaN  \n",
       "3              NaN      NaN               NaN  \n",
       "4              NaN      NaN               NaN  \n",
       "\n",
       "[5 rows x 215 columns]"
      ]
     },
     "execution_count": 7,
     "metadata": {},
     "output_type": "execute_result"
    }
   ],
   "source": [
    "df = pd.read_csv('data/Полная таблица.csv')\n",
    "df.drop('Unnamed: 0', axis=1, inplace=True)\n",
    "df.head()"
   ]
  },
  {
   "cell_type": "code",
   "execution_count": 8,
   "metadata": {},
   "outputs": [
    {
     "name": "stdout",
     "output_type": "stream",
     "text": [
      "<class 'pandas.core.frame.DataFrame'>\n",
      "RangeIndex: 747034 entries, 0 to 747033\n",
      "Data columns (total 215 columns):\n",
      " #    Column                                Dtype  \n",
      "---   ------                                -----  \n",
      " 0    addOkved                              object \n",
      " 1    addOkved.code                         object \n",
      " 2    addOkved.name                         object \n",
      " 3    addOkved.version                      object \n",
      " 4    address                               object \n",
      " 5    administrators                        object \n",
      " 6    administrators.name                   object \n",
      " 7    administrators.title                  object \n",
      " 8    charter                               float64\n",
      " 9    dateLiquid                            float64\n",
      " 10   dateLiquid.$date                      object \n",
      " 11   dateOgrn.$date                        object \n",
      " 12   dateReg                               float64\n",
      " 13   dateReg.$date                         object \n",
      " 14   egrulStatus                           object \n",
      " 15   email                                 object \n",
      " 16   fullName                              object \n",
      " 17   hasRegionalSupport                    bool   \n",
      " 18   incomeDetail.contracts223.2002.count  float64\n",
      " 19   incomeDetail.contracts223.2002.sum    float64\n",
      " 20   incomeDetail.contracts223.2004.count  float64\n",
      " 21   incomeDetail.contracts223.2004.sum    float64\n",
      " 22   incomeDetail.contracts223.2005.count  float64\n",
      " 23   incomeDetail.contracts223.2005.sum    float64\n",
      " 24   incomeDetail.contracts223.2006.count  float64\n",
      " 25   incomeDetail.contracts223.2006.sum    float64\n",
      " 26   incomeDetail.contracts223.2008.count  float64\n",
      " 27   incomeDetail.contracts223.2008.sum    float64\n",
      " 28   incomeDetail.contracts223.2010.count  float64\n",
      " 29   incomeDetail.contracts223.2010.sum    float64\n",
      " 30   incomeDetail.contracts223.2011.count  float64\n",
      " 31   incomeDetail.contracts223.2011.sum    float64\n",
      " 32   incomeDetail.contracts223.2012.count  float64\n",
      " 33   incomeDetail.contracts223.2012.sum    float64\n",
      " 34   incomeDetail.contracts223.2013.count  float64\n",
      " 35   incomeDetail.contracts223.2013.sum    float64\n",
      " 36   incomeDetail.contracts223.2014.count  float64\n",
      " 37   incomeDetail.contracts223.2014.sum    float64\n",
      " 38   incomeDetail.contracts223.2015.count  float64\n",
      " 39   incomeDetail.contracts223.2015.sum    float64\n",
      " 40   incomeDetail.contracts223.2016.count  float64\n",
      " 41   incomeDetail.contracts223.2016.sum    float64\n",
      " 42   incomeDetail.contracts223.2017.count  float64\n",
      " 43   incomeDetail.contracts223.2017.sum    float64\n",
      " 44   incomeDetail.contracts223.2018.count  float64\n",
      " 45   incomeDetail.contracts223.2018.sum    float64\n",
      " 46   incomeDetail.contracts223.totalCount  int64  \n",
      " 47   incomeDetail.contracts223.totalSum    float64\n",
      " 48   incomeDetail.contracts44.2002.count   float64\n",
      " 49   incomeDetail.contracts44.2002.sum     float64\n",
      " 50   incomeDetail.contracts44.2005.count   float64\n",
      " 51   incomeDetail.contracts44.2005.sum     float64\n",
      " 52   incomeDetail.contracts44.2006.count   float64\n",
      " 53   incomeDetail.contracts44.2006.sum     float64\n",
      " 54   incomeDetail.contracts44.2007.count   float64\n",
      " 55   incomeDetail.contracts44.2007.sum     float64\n",
      " 56   incomeDetail.contracts44.2008.count   float64\n",
      " 57   incomeDetail.contracts44.2008.sum     float64\n",
      " 58   incomeDetail.contracts44.2009.count   float64\n",
      " 59   incomeDetail.contracts44.2009.sum     float64\n",
      " 60   incomeDetail.contracts44.2010.count   float64\n",
      " 61   incomeDetail.contracts44.2010.sum     float64\n",
      " 62   incomeDetail.contracts44.2011.count   float64\n",
      " 63   incomeDetail.contracts44.2011.sum     float64\n",
      " 64   incomeDetail.contracts44.2012.count   float64\n",
      " 65   incomeDetail.contracts44.2012.sum     float64\n",
      " 66   incomeDetail.contracts44.2013.count   float64\n",
      " 67   incomeDetail.contracts44.2013.sum     float64\n",
      " 68   incomeDetail.contracts44.2014.count   float64\n",
      " 69   incomeDetail.contracts44.2014.sum     float64\n",
      " 70   incomeDetail.contracts44.2015.count   float64\n",
      " 71   incomeDetail.contracts44.2015.sum     float64\n",
      " 72   incomeDetail.contracts44.2016.count   float64\n",
      " 73   incomeDetail.contracts44.2016.sum     float64\n",
      " 74   incomeDetail.contracts44.2017.count   float64\n",
      " 75   incomeDetail.contracts44.2017.sum     float64\n",
      " 76   incomeDetail.contracts44.2018.count   float64\n",
      " 77   incomeDetail.contracts44.2018.sum     float64\n",
      " 78   incomeDetail.contracts44.2019.count   float64\n",
      " 79   incomeDetail.contracts44.2019.sum     float64\n",
      " 80   incomeDetail.contracts44.2020.count   float64\n",
      " 81   incomeDetail.contracts44.2020.sum     float64\n",
      " 82   incomeDetail.contracts44.2021.count   float64\n",
      " 83   incomeDetail.contracts44.2021.sum     float64\n",
      " 84   incomeDetail.contracts44.totalCount   int64  \n",
      " 85   incomeDetail.contracts44.totalSum     float64\n",
      " 86   incomeDetail.contracts94.2003.count   float64\n",
      " 87   incomeDetail.contracts94.2003.sum     float64\n",
      " 88   incomeDetail.contracts94.2005.count   float64\n",
      " 89   incomeDetail.contracts94.2005.sum     float64\n",
      " 90   incomeDetail.contracts94.2006.count   float64\n",
      " 91   incomeDetail.contracts94.2006.sum     float64\n",
      " 92   incomeDetail.contracts94.2007.count   float64\n",
      " 93   incomeDetail.contracts94.2007.sum     float64\n",
      " 94   incomeDetail.contracts94.2008.count   float64\n",
      " 95   incomeDetail.contracts94.2008.sum     float64\n",
      " 96   incomeDetail.contracts94.2009.count   float64\n",
      " 97   incomeDetail.contracts94.2009.sum     float64\n",
      " 98   incomeDetail.contracts94.2010.count   float64\n",
      " 99   incomeDetail.contracts94.2010.sum     float64\n",
      " 100  incomeDetail.contracts94.2011.count   float64\n",
      " 101  incomeDetail.contracts94.2011.sum     float64\n",
      " 102  incomeDetail.contracts94.2012.count   float64\n",
      " 103  incomeDetail.contracts94.2012.sum     float64\n",
      " 104  incomeDetail.contracts94.2013.count   float64\n",
      " 105  incomeDetail.contracts94.2013.sum     float64\n",
      " 106  incomeDetail.contracts94.2014.count   float64\n",
      " 107  incomeDetail.contracts94.2014.sum     float64\n",
      " 108  incomeDetail.contracts94.totalCount   int64  \n",
      " 109  incomeDetail.contracts94.totalSum     float64\n",
      " 110  incomeDetail.fedSubsidies.2001.count  float64\n",
      " 111  incomeDetail.fedSubsidies.2001.sum    float64\n",
      " 112  incomeDetail.fedSubsidies.2005.count  float64\n",
      " 113  incomeDetail.fedSubsidies.2005.sum    float64\n",
      " 114  incomeDetail.fedSubsidies.2006.count  float64\n",
      " 115  incomeDetail.fedSubsidies.2006.sum    float64\n",
      " 116  incomeDetail.fedSubsidies.2007.count  float64\n",
      " 117  incomeDetail.fedSubsidies.2007.sum    float64\n",
      " 118  incomeDetail.fedSubsidies.2008.count  float64\n",
      " 119  incomeDetail.fedSubsidies.2008.sum    float64\n",
      " 120  incomeDetail.fedSubsidies.2010.count  float64\n",
      " 121  incomeDetail.fedSubsidies.2010.sum    float64\n",
      " 122  incomeDetail.fedSubsidies.2011.count  float64\n",
      " 123  incomeDetail.fedSubsidies.2011.sum    float64\n",
      " 124  incomeDetail.fedSubsidies.2012.count  float64\n",
      " 125  incomeDetail.fedSubsidies.2012.sum    float64\n",
      " 126  incomeDetail.fedSubsidies.2013.count  float64\n",
      " 127  incomeDetail.fedSubsidies.2013.sum    float64\n",
      " 128  incomeDetail.fedSubsidies.2014.count  float64\n",
      " 129  incomeDetail.fedSubsidies.2014.sum    float64\n",
      " 130  incomeDetail.fedSubsidies.2015.count  float64\n",
      " 131  incomeDetail.fedSubsidies.2015.sum    float64\n",
      " 132  incomeDetail.fedSubsidies.2016.count  float64\n",
      " 133  incomeDetail.fedSubsidies.2016.sum    float64\n",
      " 134  incomeDetail.fedSubsidies.2017.count  float64\n",
      " 135  incomeDetail.fedSubsidies.2017.sum    float64\n",
      " 136  incomeDetail.fedSubsidies.2018.count  float64\n",
      " 137  incomeDetail.fedSubsidies.2018.sum    float64\n",
      " 138  incomeDetail.fedSubsidies.2019.count  float64\n",
      " 139  incomeDetail.fedSubsidies.2019.sum    float64\n",
      " 140  incomeDetail.fedSubsidies.2020.count  float64\n",
      " 141  incomeDetail.fedSubsidies.2020.sum    float64\n",
      " 142  incomeDetail.fedSubsidies.totalCount  int64  \n",
      " 143  incomeDetail.fedSubsidies.totalSum    float64\n",
      " 144  incomeDetail.grants.2013.count        float64\n",
      " 145  incomeDetail.grants.2013.sum          float64\n",
      " 146  incomeDetail.grants.2014.count        float64\n",
      " 147  incomeDetail.grants.2014.sum          float64\n",
      " 148  incomeDetail.grants.2015.count        float64\n",
      " 149  incomeDetail.grants.2015.sum          float64\n",
      " 150  incomeDetail.grants.2016.count        float64\n",
      " 151  incomeDetail.grants.2016.sum          float64\n",
      " 152  incomeDetail.grants.2017.count        float64\n",
      " 153  incomeDetail.grants.2017.sum          float64\n",
      " 154  incomeDetail.grants.2018.count        float64\n",
      " 155  incomeDetail.grants.2018.sum          float64\n",
      " 156  incomeDetail.grants.2019.count        float64\n",
      " 157  incomeDetail.grants.2019.sum          float64\n",
      " 158  incomeDetail.grants.2020.count        float64\n",
      " 159  incomeDetail.grants.2020.sum          float64\n",
      " 160  incomeDetail.grants.totalCount        int64  \n",
      " 161  incomeDetail.grants.totalSum          float64\n",
      " 162  incomeTotal                           float64\n",
      " 163  inn                                   float64\n",
      " 164  kpp                                   float64\n",
      " 165  logo                                  float64\n",
      " 166  mainOkved.code                        object \n",
      " 167  mainOkved.name                        object \n",
      " 168  mainOkved.version                     object \n",
      " 169  minjustForm                           object \n",
      " 170  minjustRegNum                         object \n",
      " 171  minjustStatus                         object \n",
      " 172  ogrn                                  int64  \n",
      " 173  okato.code                            float64\n",
      " 174  okato.name                            object \n",
      " 175  okfs.code                             float64\n",
      " 176  okfs.name                             object \n",
      " 177  okogu.code                            float64\n",
      " 178  okogu.name                            object \n",
      " 179  okpo                                  float64\n",
      " 180  oktmo.code                            float64\n",
      " 181  oktmo.name                            object \n",
      " 182  opf.code                              float64\n",
      " 183  opf.name                              object \n",
      " 184  opf.version                           object \n",
      " 185  originDate.$date                      object \n",
      " 186  predecessors                          object \n",
      " 187  predecessors.fullName                 object \n",
      " 188  predecessors.inn                      float64\n",
      " 189  predecessors.ogrn                     float64\n",
      " 190  regionCode                            int64  \n",
      " 191  regionName                            object \n",
      " 192  reports                               object \n",
      " 193  reports.localUrl                      object \n",
      " 194  reports.minjustUrl                    object \n",
      " 195  reports.publishYear                   float64\n",
      " 196  reports.reportId                      float64\n",
      " 197  reports.reportYear                    float64\n",
      " 198  reports.type                          object \n",
      " 199  shortName                             object \n",
      " 200  socialMedia.facebook                  object \n",
      " 201  socialMedia.instagram                 object \n",
      " 202  socialMedia.ok                        object \n",
      " 203  socialMedia.twitter                   object \n",
      " 204  socialMedia.vk                        object \n",
      " 205  socialMedia.youtube                   object \n",
      " 206  statusDetail.code                     float64\n",
      " 207  statusDetail.name                     object \n",
      " 208  statusDetail.shortName                object \n",
      " 209  successors                            object \n",
      " 210  successors.fullName                   object \n",
      " 211  successors.inn                        float64\n",
      " 212  successors.ogrn                       float64\n",
      " 213  website                               object \n",
      " 214  website_punycode                      object \n",
      "dtypes: bool(1), float64(160), int64(7), object(47)\n",
      "memory usage: 1.2+ GB\n",
      "None\n"
     ]
    }
   ],
   "source": [
    "print(df.info(verbose=True))\n"
   ]
  },
  {
   "cell_type": "code",
   "execution_count": 9,
   "metadata": {},
   "outputs": [
    {
     "name": "stdout",
     "output_type": "stream",
     "text": [
      "В данных 21 признаков без записей (только пропуски) и 10 признаков, где до 10% записей\n"
     ]
    }
   ],
   "source": [
    "missing_percentage = df.isnull().mean() * 100\n",
    "print(f'В данных {missing_percentage[missing_percentage == 0].count()} признаков без записей (только пропуски) и {missing_percentage[(missing_percentage != 0) & (missing_percentage <= 10)].count()} признаков, где до 10% записей')\n",
    "# Признаки только с пропусками можно удалить\n",
    "df_no_nan = df.dropna(axis=1, how='all')"
   ]
  },
  {
   "cell_type": "markdown",
   "metadata": {},
   "source": [
    "# Очистка данных"
   ]
  },
  {
   "cell_type": "code",
   "execution_count": 10,
   "metadata": {},
   "outputs": [
    {
     "name": "stdout",
     "output_type": "stream",
     "text": [
      "47 столбцов object\n"
     ]
    }
   ],
   "source": [
    "# Просмотрим все признаки типа object\n",
    "object_columns = df.select_dtypes(include=['object'])\n",
    "print(len(object_columns.columns), 'столбцов object')"
   ]
  },
  {
   "cell_type": "code",
   "execution_count": 11,
   "metadata": {},
   "outputs": [
    {
     "data": {
      "text/plain": [
       "(747034, 215)"
      ]
     },
     "execution_count": 11,
     "metadata": {},
     "output_type": "execute_result"
    }
   ],
   "source": [
    "df.shape"
   ]
  },
  {
   "cell_type": "code",
   "execution_count": 12,
   "metadata": {},
   "outputs": [
    {
     "name": "stdout",
     "output_type": "stream",
     "text": [
      "addOkved\n",
      "[]    474366\n",
      "Name: count, dtype: int64\n",
      "administrators\n",
      "[]    48722\n",
      "Name: count, dtype: int64\n",
      "predecessors\n",
      "[]    735550\n",
      "Name: count, dtype: int64\n",
      "reports\n",
      "[]    614158\n",
      "Name: count, dtype: int64\n",
      "socialMedia.instagram\n",
      "https://www.instagram.com/crimea24news    1\n",
      "Name: count, dtype: int64\n",
      "successors\n",
      "[]    732281\n",
      "Name: count, dtype: int64\n"
     ]
    }
   ],
   "source": [
    "lest_obj = []\n",
    "for col in object_columns.columns:\n",
    "    if df[col].nunique() == 1: # выберем столбцы, в которых одина уникальная запись\n",
    "        lest_obj.append(col)\n",
    "        print(df[col].value_counts())"
   ]
  },
  {
   "cell_type": "code",
   "execution_count": 13,
   "metadata": {},
   "outputs": [],
   "source": [
    "# Так как это просто пустые списки и одна ссылка на соцсеть, можно удалить эти признаки\n",
    "df_no_nan = df.drop(columns=lest_obj)"
   ]
  },
  {
   "cell_type": "code",
   "execution_count": 15,
   "metadata": {},
   "outputs": [
    {
     "data": {
      "text/plain": [
       "(747034, 54)"
      ]
     },
     "execution_count": 15,
     "metadata": {},
     "output_type": "execute_result"
    }
   ],
   "source": [
    "df_no_nan.shape\n",
    "# Количество кризнаков сократилось в четыре раза "
   ]
  },
  {
   "cell_type": "code",
   "execution_count": 17,
   "metadata": {},
   "outputs": [],
   "source": [
    "df_no_nan.to_csv('data/Полная таблица очищенная.csv')"
   ]
  },
  {
   "cell_type": "markdown",
   "metadata": {},
   "source": [
    "### Проанализируем признаки"
   ]
  },
  {
   "cell_type": "code",
   "execution_count": 2,
   "metadata": {},
   "outputs": [
    {
     "name": "stderr",
     "output_type": "stream",
     "text": [
      "C:\\Users\\Aplatonov\\AppData\\Local\\Temp\\ipykernel_16368\\3928868559.py:1: DtypeWarning: Columns (30) have mixed types. Specify dtype option on import or set low_memory=False.\n",
      "  df_full = pd.read_csv('data/Полная таблица очищенная.csv')\n"
     ]
    }
   ],
   "source": [
    "df_full = pd.read_csv('data/Полная таблица очищенная.csv')\n",
    "df_full = df_full.copy()"
   ]
  },
  {
   "cell_type": "code",
   "execution_count": 3,
   "metadata": {},
   "outputs": [
    {
     "name": "stdout",
     "output_type": "stream",
     "text": [
      "<class 'pandas.core.frame.DataFrame'>\n",
      "RangeIndex: 747034 entries, 0 to 747033\n",
      "Data columns (total 55 columns):\n",
      " #   Column                                Non-Null Count   Dtype  \n",
      "---  ------                                --------------   -----  \n",
      " 0   Unnamed: 0                            747034 non-null  int64  \n",
      " 1   addOkved.code                         272668 non-null  object \n",
      " 2   addOkved.name                         272668 non-null  object \n",
      " 3   addOkved.version                      272668 non-null  object \n",
      " 4   address                               747034 non-null  object \n",
      " 5   administrators.name                   698312 non-null  object \n",
      " 6   administrators.title                  698312 non-null  object \n",
      " 7   dateLiquid.$date                      399961 non-null  object \n",
      " 8   dateOgrn.$date                        747034 non-null  object \n",
      " 9   dateReg.$date                         321416 non-null  object \n",
      " 10  egrulStatus                           747034 non-null  object \n",
      " 11  fullName                              747034 non-null  object \n",
      " 12  hasRegionalSupport                    747034 non-null  bool   \n",
      " 13  incomeDetail.contracts223.totalCount  747034 non-null  int64  \n",
      " 14  incomeDetail.contracts223.totalSum    747034 non-null  float64\n",
      " 15  incomeDetail.contracts44.totalCount   747034 non-null  int64  \n",
      " 16  incomeDetail.contracts44.totalSum     747034 non-null  float64\n",
      " 17  incomeDetail.contracts94.totalCount   747034 non-null  int64  \n",
      " 18  incomeDetail.contracts94.totalSum     747034 non-null  float64\n",
      " 19  incomeDetail.fedSubsidies.totalCount  747034 non-null  int64  \n",
      " 20  incomeDetail.fedSubsidies.totalSum    747034 non-null  float64\n",
      " 21  incomeDetail.grants.totalCount        747034 non-null  int64  \n",
      " 22  incomeDetail.grants.totalSum          747034 non-null  float64\n",
      " 23  incomeTotal                           747034 non-null  float64\n",
      " 24  inn                                   744430 non-null  float64\n",
      " 25  kpp                                   743372 non-null  float64\n",
      " 26  mainOkved.code                        542353 non-null  object \n",
      " 27  mainOkved.name                        542353 non-null  object \n",
      " 28  mainOkved.version                     747034 non-null  object \n",
      " 29  minjustForm                           461073 non-null  object \n",
      " 30  minjustRegNum                         462067 non-null  object \n",
      " 31  minjustStatus                         462302 non-null  object \n",
      " 32  ogrn                                  747034 non-null  int64  \n",
      " 33  okato.code                            347437 non-null  float64\n",
      " 34  okato.name                            338220 non-null  object \n",
      " 35  okfs.code                             347437 non-null  float64\n",
      " 36  okfs.name                             347437 non-null  object \n",
      " 37  okogu.code                            347437 non-null  float64\n",
      " 38  okogu.name                            347426 non-null  object \n",
      " 39  okpo                                  347437 non-null  float64\n",
      " 40  oktmo.code                            347437 non-null  float64\n",
      " 41  oktmo.name                            275714 non-null  object \n",
      " 42  opf.code                              701825 non-null  float64\n",
      " 43  opf.name                              746619 non-null  object \n",
      " 44  opf.version                           746619 non-null  object \n",
      " 45  originDate.$date                      747034 non-null  object \n",
      " 46  regionCode                            747034 non-null  int64  \n",
      " 47  regionName                            747009 non-null  object \n",
      " 48  reports.localUrl                      132839 non-null  object \n",
      " 49  reports.minjustUrl                    132876 non-null  object \n",
      " 50  reports.publishYear                   132876 non-null  float64\n",
      " 51  reports.reportId                      132876 non-null  float64\n",
      " 52  reports.type                          132876 non-null  object \n",
      " 53  shortName                             597793 non-null  object \n",
      " 54  statusDetail.shortName                747034 non-null  object \n",
      "dtypes: bool(1), float64(16), int64(8), object(30)\n",
      "memory usage: 308.5+ MB\n"
     ]
    }
   ],
   "source": [
    "df_full.info()"
   ]
  },
  {
   "cell_type": "markdown",
   "metadata": {},
   "source": [
    "- От дополнительного ОКВЭД вдяд ли есть зависимость одобрения гранта - удаляем\n",
    "- Точный адрес тоже не должен влиять (посммотрим позже на регион и город) - удаляем\n",
    "- Имя руководителя как и должность тоже ничего не должно значить - удаляем\n",
    "- ИНН и КПП не влияют - удаляем\n",
    "- Код основного ОКВЭД и  его версия ничего нам не скажет (оставиим название) - удаляем\n",
    "- Реестровый номер НКО в системе Минюста РФ - удаляем\n",
    "- ОГРН - удаляем\n",
    "- код ОКАТО точно не нужен, оставим расшифровку\n",
    "- код ОКФС - удаляем\n",
    "- код ОКОГУ - удаляем\n",
    "- код ОКТМО - удаляем\n",
    "- код ОПФ и версия- удаляем\n",
    "- ID отчета и тип - удаляем\n",
    "\n",
    "- Статус НКО в системе Минюста РФ не должен влиять на одобрение гранта, но пока оставим\n",
    "\n",
    "Остальные признаки будем обрабатывать.   \n",
    "Возможно, ещё что-то удалим в процессе\n",
    "\n",
    "hasRegionalSupport - целевой признак одобрения получения региональной поддержки"
   ]
  },
  {
   "cell_type": "code",
   "execution_count": 4,
   "metadata": {},
   "outputs": [],
   "source": [
    "del_list = ['Unnamed: 0',\n",
    "    'addOkved.code',\n",
    "    'addOkved.version',\n",
    "    'address',\n",
    "    'administrators.name',\n",
    "    'administrators.title',\n",
    "    'inn',\n",
    "    'kpp',\n",
    "    'mainOkved.code',\n",
    "    'mainOkved.version',\n",
    "    'ogrn',\n",
    "    'okato.code',\n",
    "    'okfs.code',\n",
    "    'okogu.code',\n",
    "    'oktmo.code',\n",
    "    'opf.code',\n",
    "    'opf.version',\n",
    "    'reports.reportId',\n",
    "    'reports.type'\n",
    "]\n",
    "df_clean = df_full.drop(columns=del_list)"
   ]
  },
  {
   "cell_type": "code",
   "execution_count": 5,
   "metadata": {},
   "outputs": [
    {
     "name": "stdout",
     "output_type": "stream",
     "text": [
      "Количество дубликатов:  26\n",
      "Количество пустых строк:  0\n"
     ]
    }
   ],
   "source": [
    "# Удалим дубликаты и пустые строки\n",
    "df_clean_dub = df_clean.drop_duplicates() \n",
    "df_clean_nan = df_clean_dub.dropna(thresh = int(len(df_clean_dub.columns))*0.2) # удаляем строки, где более 80% пропусков в записи \n",
    "print('Количество дубликатов: ', df_clean.shape[0]-df_clean_dub.shape[0])\n",
    "print('Количество пустых строк: ', df_clean_dub.shape[0]-df_clean_nan.shape[0])"
   ]
  },
  {
   "cell_type": "markdown",
   "metadata": {},
   "source": [
    "# Предварителньный анализ"
   ]
  },
  {
   "cell_type": "markdown",
   "metadata": {},
   "source": [
    "Регион регистрации"
   ]
  },
  {
   "cell_type": "code",
   "execution_count": 6,
   "metadata": {},
   "outputs": [
    {
     "data": {
      "text/plain": [
       "regionName\n",
       "Москва                          80175\n",
       "Московская область              37924\n",
       "Санкт-Петербург                 31766\n",
       "Краснодарский край              23337\n",
       "Свердловская область            23028\n",
       "                                ...  \n",
       "Республика Ингушетия             1248\n",
       "Еврейская автономная область     1197\n",
       "Чукотский автономный округ        505\n",
       "Ненецкий автономный округ         398\n",
       "Не определено                      91\n",
       "Name: count, Length: 86, dtype: int64"
      ]
     },
     "execution_count": 6,
     "metadata": {},
     "output_type": "execute_result"
    }
   ],
   "source": [
    "df_clean_nan['regionName'].value_counts()"
   ]
  },
  {
   "cell_type": "markdown",
   "metadata": {},
   "source": [
    "Логично, что больше всего НКО в самых населённых регионах"
   ]
  },
  {
   "cell_type": "code",
   "execution_count": 7,
   "metadata": {},
   "outputs": [
    {
     "data": {
      "text/html": [
       "<div>\n",
       "<style scoped>\n",
       "    .dataframe tbody tr th:only-of-type {\n",
       "        vertical-align: middle;\n",
       "    }\n",
       "\n",
       "    .dataframe tbody tr th {\n",
       "        vertical-align: top;\n",
       "    }\n",
       "\n",
       "    .dataframe thead th {\n",
       "        text-align: right;\n",
       "    }\n",
       "</style>\n",
       "<table border=\"1\" class=\"dataframe\">\n",
       "  <thead>\n",
       "    <tr style=\"text-align: right;\">\n",
       "      <th>hasRegionalSupport</th>\n",
       "      <th>False</th>\n",
       "      <th>True</th>\n",
       "    </tr>\n",
       "    <tr>\n",
       "      <th>regionName</th>\n",
       "      <th></th>\n",
       "      <th></th>\n",
       "    </tr>\n",
       "  </thead>\n",
       "  <tbody>\n",
       "    <tr>\n",
       "      <th>Алтайский край</th>\n",
       "      <td>10585</td>\n",
       "      <td>316</td>\n",
       "    </tr>\n",
       "    <tr>\n",
       "      <th>Амурская область</th>\n",
       "      <td>2863</td>\n",
       "      <td>28</td>\n",
       "    </tr>\n",
       "    <tr>\n",
       "      <th>Архангельская область</th>\n",
       "      <td>5637</td>\n",
       "      <td>177</td>\n",
       "    </tr>\n",
       "    <tr>\n",
       "      <th>Астраханская область</th>\n",
       "      <td>4232</td>\n",
       "      <td>9</td>\n",
       "    </tr>\n",
       "    <tr>\n",
       "      <th>Белгородская область</th>\n",
       "      <td>7945</td>\n",
       "      <td>46</td>\n",
       "    </tr>\n",
       "    <tr>\n",
       "      <th>...</th>\n",
       "      <td>...</td>\n",
       "      <td>...</td>\n",
       "    </tr>\n",
       "    <tr>\n",
       "      <th>Чеченская республика</th>\n",
       "      <td>1794</td>\n",
       "      <td>15</td>\n",
       "    </tr>\n",
       "    <tr>\n",
       "      <th>Чувашская республика</th>\n",
       "      <td>5306</td>\n",
       "      <td>121</td>\n",
       "    </tr>\n",
       "    <tr>\n",
       "      <th>Чукотский автономный округ</th>\n",
       "      <td>457</td>\n",
       "      <td>48</td>\n",
       "    </tr>\n",
       "    <tr>\n",
       "      <th>Ямало-Ненецкий автономный округ</th>\n",
       "      <td>2515</td>\n",
       "      <td>248</td>\n",
       "    </tr>\n",
       "    <tr>\n",
       "      <th>Ярославская область</th>\n",
       "      <td>8038</td>\n",
       "      <td>245</td>\n",
       "    </tr>\n",
       "  </tbody>\n",
       "</table>\n",
       "<p>86 rows × 2 columns</p>\n",
       "</div>"
      ],
      "text/plain": [
       "hasRegionalSupport               False  True \n",
       "regionName                                   \n",
       "Алтайский край                   10585    316\n",
       "Амурская область                  2863     28\n",
       "Архангельская область             5637    177\n",
       "Астраханская область              4232      9\n",
       "Белгородская область              7945     46\n",
       "...                                ...    ...\n",
       "Чеченская республика              1794     15\n",
       "Чувашская республика              5306    121\n",
       "Чукотский автономный округ         457     48\n",
       "Ямало-Ненецкий автономный округ   2515    248\n",
       "Ярославская область               8038    245\n",
       "\n",
       "[86 rows x 2 columns]"
      ]
     },
     "execution_count": 7,
     "metadata": {},
     "output_type": "execute_result"
    }
   ],
   "source": [
    "region_group = df_clean_nan.pivot_table(index = 'regionName', columns='hasRegionalSupport', aggfunc='size', fill_value=0)\n",
    "region_group"
   ]
  },
  {
   "cell_type": "code",
   "execution_count": 8,
   "metadata": {},
   "outputs": [
    {
     "data": {
      "text/html": [
       "<div>\n",
       "<style scoped>\n",
       "    .dataframe tbody tr th:only-of-type {\n",
       "        vertical-align: middle;\n",
       "    }\n",
       "\n",
       "    .dataframe tbody tr th {\n",
       "        vertical-align: top;\n",
       "    }\n",
       "\n",
       "    .dataframe thead th {\n",
       "        text-align: right;\n",
       "    }\n",
       "</style>\n",
       "<table border=\"1\" class=\"dataframe\">\n",
       "  <thead>\n",
       "    <tr style=\"text-align: right;\">\n",
       "      <th>hasRegionalSupport</th>\n",
       "      <th>False</th>\n",
       "      <th>True</th>\n",
       "      <th>%_approve</th>\n",
       "    </tr>\n",
       "    <tr>\n",
       "      <th>regionName</th>\n",
       "      <th></th>\n",
       "      <th></th>\n",
       "      <th></th>\n",
       "    </tr>\n",
       "  </thead>\n",
       "  <tbody>\n",
       "    <tr>\n",
       "      <th>Ненецкий автономный округ</th>\n",
       "      <td>306</td>\n",
       "      <td>92</td>\n",
       "      <td>23.0</td>\n",
       "    </tr>\n",
       "    <tr>\n",
       "      <th>Чукотский автономный округ</th>\n",
       "      <td>457</td>\n",
       "      <td>48</td>\n",
       "      <td>10.0</td>\n",
       "    </tr>\n",
       "    <tr>\n",
       "      <th>Ямало-Ненецкий автономный округ</th>\n",
       "      <td>2515</td>\n",
       "      <td>248</td>\n",
       "      <td>9.0</td>\n",
       "    </tr>\n",
       "    <tr>\n",
       "      <th>Магаданская область</th>\n",
       "      <td>1456</td>\n",
       "      <td>94</td>\n",
       "      <td>6.0</td>\n",
       "    </tr>\n",
       "    <tr>\n",
       "      <th>Псковская область</th>\n",
       "      <td>3052</td>\n",
       "      <td>165</td>\n",
       "      <td>5.0</td>\n",
       "    </tr>\n",
       "    <tr>\n",
       "      <th>Республика Калмыкия</th>\n",
       "      <td>1664</td>\n",
       "      <td>89</td>\n",
       "      <td>5.0</td>\n",
       "    </tr>\n",
       "    <tr>\n",
       "      <th>Сахалинская область</th>\n",
       "      <td>3649</td>\n",
       "      <td>181</td>\n",
       "      <td>5.0</td>\n",
       "    </tr>\n",
       "    <tr>\n",
       "      <th>Калининградская область</th>\n",
       "      <td>6585</td>\n",
       "      <td>319</td>\n",
       "      <td>5.0</td>\n",
       "    </tr>\n",
       "    <tr>\n",
       "      <th>Кабардино-Балкарская республика</th>\n",
       "      <td>2406</td>\n",
       "      <td>117</td>\n",
       "      <td>5.0</td>\n",
       "    </tr>\n",
       "    <tr>\n",
       "      <th>Новгородская область</th>\n",
       "      <td>3274</td>\n",
       "      <td>143</td>\n",
       "      <td>4.0</td>\n",
       "    </tr>\n",
       "  </tbody>\n",
       "</table>\n",
       "</div>"
      ],
      "text/plain": [
       "hasRegionalSupport               False  True  %_approve\n",
       "regionName                                             \n",
       "Ненецкий автономный округ          306    92       23.0\n",
       "Чукотский автономный округ         457    48       10.0\n",
       "Ямало-Ненецкий автономный округ   2515   248        9.0\n",
       "Магаданская область               1456    94        6.0\n",
       "Псковская область                 3052   165        5.0\n",
       "Республика Калмыкия               1664    89        5.0\n",
       "Сахалинская область               3649   181        5.0\n",
       "Калининградская область           6585   319        5.0\n",
       "Кабардино-Балкарская республика   2406   117        5.0\n",
       "Новгородская область              3274   143        4.0"
      ]
     },
     "execution_count": 8,
     "metadata": {},
     "output_type": "execute_result"
    }
   ],
   "source": [
    "region_group['%_approve'] = round((region_group[True] / region_group.sum(axis=1)) * 100)\n",
    "region_group.sort_values('%_approve', ascending=False).head(10)"
   ]
  },
  {
   "cell_type": "markdown",
   "metadata": {},
   "source": [
    "Больше всего процент одобрений в НАО."
   ]
  },
  {
   "cell_type": "markdown",
   "metadata": {},
   "source": [
    "# Анализ зависимости от времени "
   ]
  },
  {
   "cell_type": "code",
   "execution_count": 9,
   "metadata": {},
   "outputs": [
    {
     "data": {
      "text/plain": [
       "0         2020-10-30T00:00:00.000Z\n",
       "1         2020-09-23T00:00:00.000Z\n",
       "2         2020-02-03T00:00:00.000Z\n",
       "3         2020-09-23T00:00:00.000Z\n",
       "4         2020-07-08T00:00:00.000Z\n",
       "                    ...           \n",
       "747029    2006-03-29T00:00:00.000Z\n",
       "747030    2006-08-09T00:00:00.000Z\n",
       "747031    1998-01-01T00:00:00.000Z\n",
       "747032    1987-12-05T00:00:00.000Z\n",
       "747033    1990-10-23T00:00:00.000Z\n",
       "Name: originDate.$date, Length: 747008, dtype: object"
      ]
     },
     "execution_count": 9,
     "metadata": {},
     "output_type": "execute_result"
    }
   ],
   "source": [
    "df_clean_nan['originDate.$date']"
   ]
  },
  {
   "cell_type": "code",
   "execution_count": 12,
   "metadata": {},
   "outputs": [],
   "source": [
    "# Добавим признак Количество месяцев, чтобы проверить, влияет ли \"возраст\" компании на одобрямость\n",
    "df_clean_nan['originDate.$date'] = pd.to_datetime(df_clean_nan['originDate.$date'])\n",
    "today = datetime.now()\n",
    "df_clean_nan['Month_s'] = ((today.year - df_clean_nan['originDate.$date'].dt.year) * 12 + today.month - df_clean_nan['originDate.$date'].dt.month)\n",
    "df_clean_nan['Year_s'] = today.year - df_clean_nan['originDate.$date'].dt.year"
   ]
  },
  {
   "cell_type": "code",
   "execution_count": null,
   "metadata": {},
   "outputs": [],
   "source": [
    "region_group['Year_s'] = round((region_group[True] / region_group.sum(axis=1)) * 100)\n",
    "region_group.sort_values('%_approve', ascending=False).head(10)"
   ]
  },
  {
   "cell_type": "code",
   "execution_count": null,
   "metadata": {},
   "outputs": [],
   "source": []
  }
 ],
 "metadata": {
  "kernelspec": {
   "display_name": "Python 3",
   "language": "python",
   "name": "python3"
  },
  "language_info": {
   "codemirror_mode": {
    "name": "ipython",
    "version": 3
   },
   "file_extension": ".py",
   "mimetype": "text/x-python",
   "name": "python",
   "nbconvert_exporter": "python",
   "pygments_lexer": "ipython3",
   "version": "3.12.0"
  }
 },
 "nbformat": 4,
 "nbformat_minor": 2
}
